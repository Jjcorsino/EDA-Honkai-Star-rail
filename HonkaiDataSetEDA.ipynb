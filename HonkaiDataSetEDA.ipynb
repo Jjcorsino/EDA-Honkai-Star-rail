{
 "cells": [
  {
   "cell_type": "markdown",
   "metadata": {},
   "source": [
    "### Se importan las librerias"
   ]
  },
  {
   "cell_type": "code",
   "execution_count": 1,
   "metadata": {},
   "outputs": [],
   "source": [
    "import pandas as pd\n",
    "import matplotlib.pyplot as plt\n",
    "import seaborn as sns\n",
    "#from ydata_profiling import ProfileReport\n",
    "\n",
    "# Se agrega estas lineas de codigo debido a que desde vsc no se puede visualizar los graficos, ignorar si se utiliza con jupyter notebook\n",
    "#plt.switch_backend('TkAgg')\n",
    "#sns.set(style=\"darkgrid\")\n"
   ]
  },
  {
   "cell_type": "markdown",
   "metadata": {},
   "source": [
    "### Se extrae e importan 2 df y se almacenan en variables diferentes, el cual se lee desde la wiki fandom del honkai. "
   ]
  },
  {
   "cell_type": "code",
   "execution_count": 2,
   "metadata": {},
   "outputs": [
    {
     "data": {
      "text/html": [
       "<div>\n",
       "<style scoped>\n",
       "    .dataframe tbody tr th:only-of-type {\n",
       "        vertical-align: middle;\n",
       "    }\n",
       "\n",
       "    .dataframe tbody tr th {\n",
       "        vertical-align: top;\n",
       "    }\n",
       "\n",
       "    .dataframe thead th {\n",
       "        text-align: right;\n",
       "    }\n",
       "</style>\n",
       "<table border=\"1\" class=\"dataframe\">\n",
       "  <thead>\n",
       "    <tr style=\"text-align: right;\">\n",
       "      <th></th>\n",
       "      <th>Icon</th>\n",
       "      <th>Name</th>\n",
       "      <th>Rarity</th>\n",
       "      <th>Path</th>\n",
       "      <th>Combat Type</th>\n",
       "    </tr>\n",
       "  </thead>\n",
       "  <tbody>\n",
       "    <tr>\n",
       "      <th>0</th>\n",
       "      <td>NaN</td>\n",
       "      <td>Arlan</td>\n",
       "      <td>NaN</td>\n",
       "      <td>Destruction</td>\n",
       "      <td>Lightning</td>\n",
       "    </tr>\n",
       "    <tr>\n",
       "      <th>1</th>\n",
       "      <td>NaN</td>\n",
       "      <td>Asta</td>\n",
       "      <td>NaN</td>\n",
       "      <td>Harmony</td>\n",
       "      <td>Fire</td>\n",
       "    </tr>\n",
       "    <tr>\n",
       "      <th>2</th>\n",
       "      <td>NaN</td>\n",
       "      <td>Bailu</td>\n",
       "      <td>NaN</td>\n",
       "      <td>Abundance</td>\n",
       "      <td>Lightning</td>\n",
       "    </tr>\n",
       "    <tr>\n",
       "      <th>3</th>\n",
       "      <td>NaN</td>\n",
       "      <td>Blade</td>\n",
       "      <td>NaN</td>\n",
       "      <td>Destruction</td>\n",
       "      <td>Wind</td>\n",
       "    </tr>\n",
       "    <tr>\n",
       "      <th>4</th>\n",
       "      <td>NaN</td>\n",
       "      <td>Bronya</td>\n",
       "      <td>NaN</td>\n",
       "      <td>Harmony</td>\n",
       "      <td>Wind</td>\n",
       "    </tr>\n",
       "  </tbody>\n",
       "</table>\n",
       "</div>"
      ],
      "text/plain": [
       "   Icon    Name  Rarity         Path Combat Type\n",
       "0   NaN   Arlan     NaN  Destruction   Lightning\n",
       "1   NaN    Asta     NaN      Harmony        Fire\n",
       "2   NaN   Bailu     NaN    Abundance   Lightning\n",
       "3   NaN   Blade     NaN  Destruction        Wind\n",
       "4   NaN  Bronya     NaN      Harmony        Wind"
      ]
     },
     "execution_count": 2,
     "metadata": {},
     "output_type": "execute_result"
    }
   ],
   "source": [
    "characterUrl = pd.read_html('https://honkai-star-rail.fandom.com/wiki/Character')\n",
    "playableCharacters = characterUrl[1]\n",
    "upcomingCharacters = characterUrl[2]\n",
    "\n",
    "playableCharacters.head()"
   ]
  },
  {
   "cell_type": "markdown",
   "metadata": {},
   "source": [
    "### Se dropean columnas no relevantes y/o vacias de los df"
   ]
  },
  {
   "cell_type": "code",
   "execution_count": 3,
   "metadata": {},
   "outputs": [
    {
     "data": {
      "text/html": [
       "<div>\n",
       "<style scoped>\n",
       "    .dataframe tbody tr th:only-of-type {\n",
       "        vertical-align: middle;\n",
       "    }\n",
       "\n",
       "    .dataframe tbody tr th {\n",
       "        vertical-align: top;\n",
       "    }\n",
       "\n",
       "    .dataframe thead th {\n",
       "        text-align: right;\n",
       "    }\n",
       "</style>\n",
       "<table border=\"1\" class=\"dataframe\">\n",
       "  <thead>\n",
       "    <tr style=\"text-align: right;\">\n",
       "      <th></th>\n",
       "      <th>Name</th>\n",
       "      <th>Path</th>\n",
       "      <th>Combat Type</th>\n",
       "    </tr>\n",
       "  </thead>\n",
       "  <tbody>\n",
       "    <tr>\n",
       "      <th>0</th>\n",
       "      <td>Arlan</td>\n",
       "      <td>Destruction</td>\n",
       "      <td>Lightning</td>\n",
       "    </tr>\n",
       "    <tr>\n",
       "      <th>1</th>\n",
       "      <td>Asta</td>\n",
       "      <td>Harmony</td>\n",
       "      <td>Fire</td>\n",
       "    </tr>\n",
       "    <tr>\n",
       "      <th>2</th>\n",
       "      <td>Bailu</td>\n",
       "      <td>Abundance</td>\n",
       "      <td>Lightning</td>\n",
       "    </tr>\n",
       "    <tr>\n",
       "      <th>3</th>\n",
       "      <td>Blade</td>\n",
       "      <td>Destruction</td>\n",
       "      <td>Wind</td>\n",
       "    </tr>\n",
       "    <tr>\n",
       "      <th>4</th>\n",
       "      <td>Bronya</td>\n",
       "      <td>Harmony</td>\n",
       "      <td>Wind</td>\n",
       "    </tr>\n",
       "  </tbody>\n",
       "</table>\n",
       "</div>"
      ],
      "text/plain": [
       "     Name         Path Combat Type\n",
       "0   Arlan  Destruction   Lightning\n",
       "1    Asta      Harmony        Fire\n",
       "2   Bailu    Abundance   Lightning\n",
       "3   Blade  Destruction        Wind\n",
       "4  Bronya      Harmony        Wind"
      ]
     },
     "execution_count": 3,
     "metadata": {},
     "output_type": "execute_result"
    }
   ],
   "source": [
    "playableCharacters.drop(columns=['Icon', 'Rarity'], inplace=True)\n",
    "upcomingCharacters.drop(columns=['Icon', 'Rarity'], inplace=True)\n",
    "playableCharacters.head()"
   ]
  },
  {
   "cell_type": "code",
   "execution_count": 4,
   "metadata": {},
   "outputs": [
    {
     "data": {
      "text/html": [
       "<div>\n",
       "<style scoped>\n",
       "    .dataframe tbody tr th:only-of-type {\n",
       "        vertical-align: middle;\n",
       "    }\n",
       "\n",
       "    .dataframe tbody tr th {\n",
       "        vertical-align: top;\n",
       "    }\n",
       "\n",
       "    .dataframe thead th {\n",
       "        text-align: right;\n",
       "    }\n",
       "</style>\n",
       "<table border=\"1\" class=\"dataframe\">\n",
       "  <thead>\n",
       "    <tr style=\"text-align: right;\">\n",
       "      <th></th>\n",
       "      <th>Name</th>\n",
       "      <th>Path</th>\n",
       "      <th>Combat Type</th>\n",
       "    </tr>\n",
       "  </thead>\n",
       "  <tbody>\n",
       "    <tr>\n",
       "      <th>0</th>\n",
       "      <td>Argenti</td>\n",
       "      <td>Erudition</td>\n",
       "      <td>Physical</td>\n",
       "    </tr>\n",
       "    <tr>\n",
       "      <th>1</th>\n",
       "      <td>Dr. Ratio</td>\n",
       "      <td>The Hunt</td>\n",
       "      <td>Imaginary</td>\n",
       "    </tr>\n",
       "    <tr>\n",
       "      <th>2</th>\n",
       "      <td>Hanya</td>\n",
       "      <td>Harmony</td>\n",
       "      <td>Physical</td>\n",
       "    </tr>\n",
       "    <tr>\n",
       "      <th>3</th>\n",
       "      <td>Ruan Mei</td>\n",
       "      <td>Harmony</td>\n",
       "      <td>Ice</td>\n",
       "    </tr>\n",
       "    <tr>\n",
       "      <th>4</th>\n",
       "      <td>Xueyi</td>\n",
       "      <td>Destruction</td>\n",
       "      <td>Quantum</td>\n",
       "    </tr>\n",
       "  </tbody>\n",
       "</table>\n",
       "</div>"
      ],
      "text/plain": [
       "        Name         Path Combat Type\n",
       "0    Argenti    Erudition    Physical\n",
       "1  Dr. Ratio     The Hunt   Imaginary\n",
       "2      Hanya      Harmony    Physical\n",
       "3   Ruan Mei      Harmony         Ice\n",
       "4      Xueyi  Destruction     Quantum"
      ]
     },
     "execution_count": 4,
     "metadata": {},
     "output_type": "execute_result"
    }
   ],
   "source": [
    "upcomingCharacters.head()"
   ]
  },
  {
   "cell_type": "markdown",
   "metadata": {},
   "source": [
    "### Se modifica el codigo aca para agregar 1 columna a cada df, para poder diferenciar si son jugables o no actualmente para un posterior analisis"
   ]
  },
  {
   "cell_type": "code",
   "execution_count": 5,
   "metadata": {},
   "outputs": [],
   "source": [
    "playableCharacters['Status'] = 'Playable'\n",
    "upcomingCharacters['Status'] = 'Upcoming'"
   ]
  },
  {
   "cell_type": "code",
   "execution_count": 6,
   "metadata": {},
   "outputs": [
    {
     "data": {
      "text/html": [
       "<div>\n",
       "<style scoped>\n",
       "    .dataframe tbody tr th:only-of-type {\n",
       "        vertical-align: middle;\n",
       "    }\n",
       "\n",
       "    .dataframe tbody tr th {\n",
       "        vertical-align: top;\n",
       "    }\n",
       "\n",
       "    .dataframe thead th {\n",
       "        text-align: right;\n",
       "    }\n",
       "</style>\n",
       "<table border=\"1\" class=\"dataframe\">\n",
       "  <thead>\n",
       "    <tr style=\"text-align: right;\">\n",
       "      <th></th>\n",
       "      <th>Name</th>\n",
       "      <th>Path</th>\n",
       "      <th>Combat Type</th>\n",
       "      <th>Status</th>\n",
       "    </tr>\n",
       "  </thead>\n",
       "  <tbody>\n",
       "    <tr>\n",
       "      <th>0</th>\n",
       "      <td>Argenti</td>\n",
       "      <td>Erudition</td>\n",
       "      <td>Physical</td>\n",
       "      <td>Upcoming</td>\n",
       "    </tr>\n",
       "    <tr>\n",
       "      <th>1</th>\n",
       "      <td>Dr. Ratio</td>\n",
       "      <td>The Hunt</td>\n",
       "      <td>Imaginary</td>\n",
       "      <td>Upcoming</td>\n",
       "    </tr>\n",
       "    <tr>\n",
       "      <th>2</th>\n",
       "      <td>Hanya</td>\n",
       "      <td>Harmony</td>\n",
       "      <td>Physical</td>\n",
       "      <td>Upcoming</td>\n",
       "    </tr>\n",
       "    <tr>\n",
       "      <th>3</th>\n",
       "      <td>Ruan Mei</td>\n",
       "      <td>Harmony</td>\n",
       "      <td>Ice</td>\n",
       "      <td>Upcoming</td>\n",
       "    </tr>\n",
       "    <tr>\n",
       "      <th>4</th>\n",
       "      <td>Xueyi</td>\n",
       "      <td>Destruction</td>\n",
       "      <td>Quantum</td>\n",
       "      <td>Upcoming</td>\n",
       "    </tr>\n",
       "  </tbody>\n",
       "</table>\n",
       "</div>"
      ],
      "text/plain": [
       "        Name         Path Combat Type    Status\n",
       "0    Argenti    Erudition    Physical  Upcoming\n",
       "1  Dr. Ratio     The Hunt   Imaginary  Upcoming\n",
       "2      Hanya      Harmony    Physical  Upcoming\n",
       "3   Ruan Mei      Harmony         Ice  Upcoming\n",
       "4      Xueyi  Destruction     Quantum  Upcoming"
      ]
     },
     "execution_count": 6,
     "metadata": {},
     "output_type": "execute_result"
    }
   ],
   "source": [
    "upcomingCharacters.head()"
   ]
  },
  {
   "cell_type": "code",
   "execution_count": 7,
   "metadata": {},
   "outputs": [
    {
     "data": {
      "text/html": [
       "<div>\n",
       "<style scoped>\n",
       "    .dataframe tbody tr th:only-of-type {\n",
       "        vertical-align: middle;\n",
       "    }\n",
       "\n",
       "    .dataframe tbody tr th {\n",
       "        vertical-align: top;\n",
       "    }\n",
       "\n",
       "    .dataframe thead th {\n",
       "        text-align: right;\n",
       "    }\n",
       "</style>\n",
       "<table border=\"1\" class=\"dataframe\">\n",
       "  <thead>\n",
       "    <tr style=\"text-align: right;\">\n",
       "      <th></th>\n",
       "      <th>Name</th>\n",
       "      <th>Path</th>\n",
       "      <th>Combat Type</th>\n",
       "      <th>Status</th>\n",
       "    </tr>\n",
       "  </thead>\n",
       "  <tbody>\n",
       "    <tr>\n",
       "      <th>0</th>\n",
       "      <td>Arlan</td>\n",
       "      <td>Destruction</td>\n",
       "      <td>Lightning</td>\n",
       "      <td>Playable</td>\n",
       "    </tr>\n",
       "    <tr>\n",
       "      <th>1</th>\n",
       "      <td>Asta</td>\n",
       "      <td>Harmony</td>\n",
       "      <td>Fire</td>\n",
       "      <td>Playable</td>\n",
       "    </tr>\n",
       "    <tr>\n",
       "      <th>2</th>\n",
       "      <td>Bailu</td>\n",
       "      <td>Abundance</td>\n",
       "      <td>Lightning</td>\n",
       "      <td>Playable</td>\n",
       "    </tr>\n",
       "    <tr>\n",
       "      <th>3</th>\n",
       "      <td>Blade</td>\n",
       "      <td>Destruction</td>\n",
       "      <td>Wind</td>\n",
       "      <td>Playable</td>\n",
       "    </tr>\n",
       "    <tr>\n",
       "      <th>4</th>\n",
       "      <td>Bronya</td>\n",
       "      <td>Harmony</td>\n",
       "      <td>Wind</td>\n",
       "      <td>Playable</td>\n",
       "    </tr>\n",
       "  </tbody>\n",
       "</table>\n",
       "</div>"
      ],
      "text/plain": [
       "     Name         Path Combat Type    Status\n",
       "0   Arlan  Destruction   Lightning  Playable\n",
       "1    Asta      Harmony        Fire  Playable\n",
       "2   Bailu    Abundance   Lightning  Playable\n",
       "3   Blade  Destruction        Wind  Playable\n",
       "4  Bronya      Harmony        Wind  Playable"
      ]
     },
     "execution_count": 7,
     "metadata": {},
     "output_type": "execute_result"
    }
   ],
   "source": [
    "playableCharacters.head()"
   ]
  },
  {
   "cell_type": "markdown",
   "metadata": {},
   "source": [
    "### Se unen los df para tener un consolidado con los personajes jugables y los proximos"
   ]
  },
  {
   "cell_type": "code",
   "execution_count": 8,
   "metadata": {},
   "outputs": [],
   "source": [
    "characters_df = pd.concat([playableCharacters, upcomingCharacters], ignore_index=False)"
   ]
  },
  {
   "cell_type": "code",
   "execution_count": 106,
   "metadata": {},
   "outputs": [
    {
     "data": {
      "text/html": [
       "<div>\n",
       "<style scoped>\n",
       "    .dataframe tbody tr th:only-of-type {\n",
       "        vertical-align: middle;\n",
       "    }\n",
       "\n",
       "    .dataframe tbody tr th {\n",
       "        vertical-align: top;\n",
       "    }\n",
       "\n",
       "    .dataframe thead th {\n",
       "        text-align: right;\n",
       "    }\n",
       "</style>\n",
       "<table border=\"1\" class=\"dataframe\">\n",
       "  <thead>\n",
       "    <tr style=\"text-align: right;\">\n",
       "      <th></th>\n",
       "      <th>Name</th>\n",
       "      <th>Path</th>\n",
       "      <th>Combat Type</th>\n",
       "      <th>Status</th>\n",
       "    </tr>\n",
       "  </thead>\n",
       "  <tbody>\n",
       "    <tr>\n",
       "      <th>0</th>\n",
       "      <td>Arlan</td>\n",
       "      <td>Destruction</td>\n",
       "      <td>Lightning</td>\n",
       "      <td>Playable</td>\n",
       "    </tr>\n",
       "    <tr>\n",
       "      <th>1</th>\n",
       "      <td>Asta</td>\n",
       "      <td>Harmony</td>\n",
       "      <td>Fire</td>\n",
       "      <td>Playable</td>\n",
       "    </tr>\n",
       "    <tr>\n",
       "      <th>2</th>\n",
       "      <td>Bailu</td>\n",
       "      <td>Abundance</td>\n",
       "      <td>Lightning</td>\n",
       "      <td>Playable</td>\n",
       "    </tr>\n",
       "    <tr>\n",
       "      <th>3</th>\n",
       "      <td>Blade</td>\n",
       "      <td>Destruction</td>\n",
       "      <td>Wind</td>\n",
       "      <td>Playable</td>\n",
       "    </tr>\n",
       "    <tr>\n",
       "      <th>4</th>\n",
       "      <td>Bronya</td>\n",
       "      <td>Harmony</td>\n",
       "      <td>Wind</td>\n",
       "      <td>Playable</td>\n",
       "    </tr>\n",
       "    <tr>\n",
       "      <th>5</th>\n",
       "      <td>Clara</td>\n",
       "      <td>Destruction</td>\n",
       "      <td>Physical</td>\n",
       "      <td>Playable</td>\n",
       "    </tr>\n",
       "    <tr>\n",
       "      <th>6</th>\n",
       "      <td>Dan Heng</td>\n",
       "      <td>The Hunt</td>\n",
       "      <td>Wind</td>\n",
       "      <td>Playable</td>\n",
       "    </tr>\n",
       "    <tr>\n",
       "      <th>7</th>\n",
       "      <td>Dan Heng • Imbibitor Lunae</td>\n",
       "      <td>Destruction</td>\n",
       "      <td>Imaginary</td>\n",
       "      <td>Playable</td>\n",
       "    </tr>\n",
       "    <tr>\n",
       "      <th>8</th>\n",
       "      <td>Fu Xuan</td>\n",
       "      <td>Preservation</td>\n",
       "      <td>Quantum</td>\n",
       "      <td>Playable</td>\n",
       "    </tr>\n",
       "    <tr>\n",
       "      <th>9</th>\n",
       "      <td>Gepard</td>\n",
       "      <td>Preservation</td>\n",
       "      <td>Ice</td>\n",
       "      <td>Playable</td>\n",
       "    </tr>\n",
       "    <tr>\n",
       "      <th>10</th>\n",
       "      <td>Guinaifen</td>\n",
       "      <td>Nihility</td>\n",
       "      <td>Fire</td>\n",
       "      <td>Playable</td>\n",
       "    </tr>\n",
       "    <tr>\n",
       "      <th>11</th>\n",
       "      <td>Herta</td>\n",
       "      <td>Erudition</td>\n",
       "      <td>Ice</td>\n",
       "      <td>Playable</td>\n",
       "    </tr>\n",
       "    <tr>\n",
       "      <th>12</th>\n",
       "      <td>Himeko</td>\n",
       "      <td>Erudition</td>\n",
       "      <td>Fire</td>\n",
       "      <td>Playable</td>\n",
       "    </tr>\n",
       "    <tr>\n",
       "      <th>13</th>\n",
       "      <td>Hook</td>\n",
       "      <td>Destruction</td>\n",
       "      <td>Fire</td>\n",
       "      <td>Playable</td>\n",
       "    </tr>\n",
       "    <tr>\n",
       "      <th>14</th>\n",
       "      <td>Huohuo</td>\n",
       "      <td>Abundance</td>\n",
       "      <td>Wind</td>\n",
       "      <td>Playable</td>\n",
       "    </tr>\n",
       "    <tr>\n",
       "      <th>15</th>\n",
       "      <td>Jing Yuan</td>\n",
       "      <td>Erudition</td>\n",
       "      <td>Lightning</td>\n",
       "      <td>Playable</td>\n",
       "    </tr>\n",
       "    <tr>\n",
       "      <th>16</th>\n",
       "      <td>Jingliu</td>\n",
       "      <td>Destruction</td>\n",
       "      <td>Ice</td>\n",
       "      <td>Playable</td>\n",
       "    </tr>\n",
       "    <tr>\n",
       "      <th>17</th>\n",
       "      <td>Kafka</td>\n",
       "      <td>Nihility</td>\n",
       "      <td>Lightning</td>\n",
       "      <td>Playable</td>\n",
       "    </tr>\n",
       "    <tr>\n",
       "      <th>18</th>\n",
       "      <td>Luka</td>\n",
       "      <td>Nihility</td>\n",
       "      <td>Physical</td>\n",
       "      <td>Playable</td>\n",
       "    </tr>\n",
       "    <tr>\n",
       "      <th>19</th>\n",
       "      <td>Luocha</td>\n",
       "      <td>Abundance</td>\n",
       "      <td>Imaginary</td>\n",
       "      <td>Playable</td>\n",
       "    </tr>\n",
       "    <tr>\n",
       "      <th>20</th>\n",
       "      <td>Lynx</td>\n",
       "      <td>Abundance</td>\n",
       "      <td>Quantum</td>\n",
       "      <td>Playable</td>\n",
       "    </tr>\n",
       "    <tr>\n",
       "      <th>21</th>\n",
       "      <td>March 7th</td>\n",
       "      <td>Preservation</td>\n",
       "      <td>Ice</td>\n",
       "      <td>Playable</td>\n",
       "    </tr>\n",
       "    <tr>\n",
       "      <th>22</th>\n",
       "      <td>Natasha</td>\n",
       "      <td>Abundance</td>\n",
       "      <td>Physical</td>\n",
       "      <td>Playable</td>\n",
       "    </tr>\n",
       "    <tr>\n",
       "      <th>23</th>\n",
       "      <td>Pela</td>\n",
       "      <td>Nihility</td>\n",
       "      <td>Ice</td>\n",
       "      <td>Playable</td>\n",
       "    </tr>\n",
       "    <tr>\n",
       "      <th>24</th>\n",
       "      <td>Qingque</td>\n",
       "      <td>Erudition</td>\n",
       "      <td>Quantum</td>\n",
       "      <td>Playable</td>\n",
       "    </tr>\n",
       "    <tr>\n",
       "      <th>25</th>\n",
       "      <td>Sampo</td>\n",
       "      <td>Nihility</td>\n",
       "      <td>Wind</td>\n",
       "      <td>Playable</td>\n",
       "    </tr>\n",
       "    <tr>\n",
       "      <th>26</th>\n",
       "      <td>Seele</td>\n",
       "      <td>The Hunt</td>\n",
       "      <td>Quantum</td>\n",
       "      <td>Playable</td>\n",
       "    </tr>\n",
       "    <tr>\n",
       "      <th>27</th>\n",
       "      <td>Serval</td>\n",
       "      <td>Erudition</td>\n",
       "      <td>Lightning</td>\n",
       "      <td>Playable</td>\n",
       "    </tr>\n",
       "    <tr>\n",
       "      <th>28</th>\n",
       "      <td>Silver Wolf</td>\n",
       "      <td>Nihility</td>\n",
       "      <td>Quantum</td>\n",
       "      <td>Playable</td>\n",
       "    </tr>\n",
       "    <tr>\n",
       "      <th>29</th>\n",
       "      <td>Sushang</td>\n",
       "      <td>The Hunt</td>\n",
       "      <td>Physical</td>\n",
       "      <td>Playable</td>\n",
       "    </tr>\n",
       "    <tr>\n",
       "      <th>30</th>\n",
       "      <td>Tingyun</td>\n",
       "      <td>Harmony</td>\n",
       "      <td>Lightning</td>\n",
       "      <td>Playable</td>\n",
       "    </tr>\n",
       "    <tr>\n",
       "      <th>31</th>\n",
       "      <td>Topaz and Numby</td>\n",
       "      <td>The Hunt</td>\n",
       "      <td>Fire</td>\n",
       "      <td>Playable</td>\n",
       "    </tr>\n",
       "    <tr>\n",
       "      <th>32</th>\n",
       "      <td>Trailblazer</td>\n",
       "      <td>Adaptive</td>\n",
       "      <td>Adaptive</td>\n",
       "      <td>Playable</td>\n",
       "    </tr>\n",
       "    <tr>\n",
       "      <th>33</th>\n",
       "      <td>Welt</td>\n",
       "      <td>Nihility</td>\n",
       "      <td>Imaginary</td>\n",
       "      <td>Playable</td>\n",
       "    </tr>\n",
       "    <tr>\n",
       "      <th>34</th>\n",
       "      <td>Yanqing</td>\n",
       "      <td>The Hunt</td>\n",
       "      <td>Ice</td>\n",
       "      <td>Playable</td>\n",
       "    </tr>\n",
       "    <tr>\n",
       "      <th>35</th>\n",
       "      <td>Yukong</td>\n",
       "      <td>Harmony</td>\n",
       "      <td>Imaginary</td>\n",
       "      <td>Playable</td>\n",
       "    </tr>\n",
       "    <tr>\n",
       "      <th>0</th>\n",
       "      <td>Argenti</td>\n",
       "      <td>Erudition</td>\n",
       "      <td>Physical</td>\n",
       "      <td>Upcoming</td>\n",
       "    </tr>\n",
       "    <tr>\n",
       "      <th>1</th>\n",
       "      <td>Dr. Ratio</td>\n",
       "      <td>The Hunt</td>\n",
       "      <td>Imaginary</td>\n",
       "      <td>Upcoming</td>\n",
       "    </tr>\n",
       "    <tr>\n",
       "      <th>2</th>\n",
       "      <td>Hanya</td>\n",
       "      <td>Harmony</td>\n",
       "      <td>Physical</td>\n",
       "      <td>Upcoming</td>\n",
       "    </tr>\n",
       "    <tr>\n",
       "      <th>3</th>\n",
       "      <td>Ruan Mei</td>\n",
       "      <td>Harmony</td>\n",
       "      <td>Ice</td>\n",
       "      <td>Upcoming</td>\n",
       "    </tr>\n",
       "    <tr>\n",
       "      <th>4</th>\n",
       "      <td>Xueyi</td>\n",
       "      <td>Destruction</td>\n",
       "      <td>Quantum</td>\n",
       "      <td>Upcoming</td>\n",
       "    </tr>\n",
       "  </tbody>\n",
       "</table>\n",
       "</div>"
      ],
      "text/plain": [
       "                          Name          Path Combat Type    Status\n",
       "0                        Arlan   Destruction   Lightning  Playable\n",
       "1                         Asta       Harmony        Fire  Playable\n",
       "2                        Bailu     Abundance   Lightning  Playable\n",
       "3                        Blade   Destruction        Wind  Playable\n",
       "4                       Bronya       Harmony        Wind  Playable\n",
       "5                        Clara   Destruction    Physical  Playable\n",
       "6                     Dan Heng      The Hunt        Wind  Playable\n",
       "7   Dan Heng • Imbibitor Lunae   Destruction   Imaginary  Playable\n",
       "8                      Fu Xuan  Preservation     Quantum  Playable\n",
       "9                       Gepard  Preservation         Ice  Playable\n",
       "10                   Guinaifen      Nihility        Fire  Playable\n",
       "11                       Herta     Erudition         Ice  Playable\n",
       "12                      Himeko     Erudition        Fire  Playable\n",
       "13                        Hook   Destruction        Fire  Playable\n",
       "14                      Huohuo     Abundance        Wind  Playable\n",
       "15                   Jing Yuan     Erudition   Lightning  Playable\n",
       "16                     Jingliu   Destruction         Ice  Playable\n",
       "17                       Kafka      Nihility   Lightning  Playable\n",
       "18                        Luka      Nihility    Physical  Playable\n",
       "19                      Luocha     Abundance   Imaginary  Playable\n",
       "20                        Lynx     Abundance     Quantum  Playable\n",
       "21                   March 7th  Preservation         Ice  Playable\n",
       "22                     Natasha     Abundance    Physical  Playable\n",
       "23                        Pela      Nihility         Ice  Playable\n",
       "24                     Qingque     Erudition     Quantum  Playable\n",
       "25                       Sampo      Nihility        Wind  Playable\n",
       "26                       Seele      The Hunt     Quantum  Playable\n",
       "27                      Serval     Erudition   Lightning  Playable\n",
       "28                 Silver Wolf      Nihility     Quantum  Playable\n",
       "29                     Sushang      The Hunt    Physical  Playable\n",
       "30                     Tingyun       Harmony   Lightning  Playable\n",
       "31             Topaz and Numby      The Hunt        Fire  Playable\n",
       "32                 Trailblazer      Adaptive    Adaptive  Playable\n",
       "33                        Welt      Nihility   Imaginary  Playable\n",
       "34                     Yanqing      The Hunt         Ice  Playable\n",
       "35                      Yukong       Harmony   Imaginary  Playable\n",
       "0                      Argenti     Erudition    Physical  Upcoming\n",
       "1                    Dr. Ratio      The Hunt   Imaginary  Upcoming\n",
       "2                        Hanya       Harmony    Physical  Upcoming\n",
       "3                     Ruan Mei       Harmony         Ice  Upcoming\n",
       "4                        Xueyi   Destruction     Quantum  Upcoming"
      ]
     },
     "execution_count": 106,
     "metadata": {},
     "output_type": "execute_result"
    }
   ],
   "source": [
    "characters_df"
   ]
  },
  {
   "cell_type": "code",
   "execution_count": 10,
   "metadata": {},
   "outputs": [],
   "source": [
    "characters_df2 = characters_df.reset_index(drop=True, inplace=False)"
   ]
  },
  {
   "cell_type": "code",
   "execution_count": 11,
   "metadata": {},
   "outputs": [
    {
     "data": {
      "text/html": [
       "<div>\n",
       "<style scoped>\n",
       "    .dataframe tbody tr th:only-of-type {\n",
       "        vertical-align: middle;\n",
       "    }\n",
       "\n",
       "    .dataframe tbody tr th {\n",
       "        vertical-align: top;\n",
       "    }\n",
       "\n",
       "    .dataframe thead th {\n",
       "        text-align: right;\n",
       "    }\n",
       "</style>\n",
       "<table border=\"1\" class=\"dataframe\">\n",
       "  <thead>\n",
       "    <tr style=\"text-align: right;\">\n",
       "      <th></th>\n",
       "      <th>Name</th>\n",
       "      <th>Path</th>\n",
       "      <th>Combat Type</th>\n",
       "      <th>Status</th>\n",
       "    </tr>\n",
       "  </thead>\n",
       "  <tbody>\n",
       "    <tr>\n",
       "      <th>0</th>\n",
       "      <td>Arlan</td>\n",
       "      <td>Destruction</td>\n",
       "      <td>Lightning</td>\n",
       "      <td>Playable</td>\n",
       "    </tr>\n",
       "    <tr>\n",
       "      <th>1</th>\n",
       "      <td>Asta</td>\n",
       "      <td>Harmony</td>\n",
       "      <td>Fire</td>\n",
       "      <td>Playable</td>\n",
       "    </tr>\n",
       "    <tr>\n",
       "      <th>2</th>\n",
       "      <td>Bailu</td>\n",
       "      <td>Abundance</td>\n",
       "      <td>Lightning</td>\n",
       "      <td>Playable</td>\n",
       "    </tr>\n",
       "    <tr>\n",
       "      <th>3</th>\n",
       "      <td>Blade</td>\n",
       "      <td>Destruction</td>\n",
       "      <td>Wind</td>\n",
       "      <td>Playable</td>\n",
       "    </tr>\n",
       "    <tr>\n",
       "      <th>4</th>\n",
       "      <td>Bronya</td>\n",
       "      <td>Harmony</td>\n",
       "      <td>Wind</td>\n",
       "      <td>Playable</td>\n",
       "    </tr>\n",
       "    <tr>\n",
       "      <th>5</th>\n",
       "      <td>Clara</td>\n",
       "      <td>Destruction</td>\n",
       "      <td>Physical</td>\n",
       "      <td>Playable</td>\n",
       "    </tr>\n",
       "    <tr>\n",
       "      <th>6</th>\n",
       "      <td>Dan Heng</td>\n",
       "      <td>The Hunt</td>\n",
       "      <td>Wind</td>\n",
       "      <td>Playable</td>\n",
       "    </tr>\n",
       "    <tr>\n",
       "      <th>7</th>\n",
       "      <td>Dan Heng • Imbibitor Lunae</td>\n",
       "      <td>Destruction</td>\n",
       "      <td>Imaginary</td>\n",
       "      <td>Playable</td>\n",
       "    </tr>\n",
       "    <tr>\n",
       "      <th>8</th>\n",
       "      <td>Fu Xuan</td>\n",
       "      <td>Preservation</td>\n",
       "      <td>Quantum</td>\n",
       "      <td>Playable</td>\n",
       "    </tr>\n",
       "    <tr>\n",
       "      <th>9</th>\n",
       "      <td>Gepard</td>\n",
       "      <td>Preservation</td>\n",
       "      <td>Ice</td>\n",
       "      <td>Playable</td>\n",
       "    </tr>\n",
       "    <tr>\n",
       "      <th>10</th>\n",
       "      <td>Guinaifen</td>\n",
       "      <td>Nihility</td>\n",
       "      <td>Fire</td>\n",
       "      <td>Playable</td>\n",
       "    </tr>\n",
       "    <tr>\n",
       "      <th>11</th>\n",
       "      <td>Herta</td>\n",
       "      <td>Erudition</td>\n",
       "      <td>Ice</td>\n",
       "      <td>Playable</td>\n",
       "    </tr>\n",
       "    <tr>\n",
       "      <th>12</th>\n",
       "      <td>Himeko</td>\n",
       "      <td>Erudition</td>\n",
       "      <td>Fire</td>\n",
       "      <td>Playable</td>\n",
       "    </tr>\n",
       "    <tr>\n",
       "      <th>13</th>\n",
       "      <td>Hook</td>\n",
       "      <td>Destruction</td>\n",
       "      <td>Fire</td>\n",
       "      <td>Playable</td>\n",
       "    </tr>\n",
       "    <tr>\n",
       "      <th>14</th>\n",
       "      <td>Huohuo</td>\n",
       "      <td>Abundance</td>\n",
       "      <td>Wind</td>\n",
       "      <td>Playable</td>\n",
       "    </tr>\n",
       "    <tr>\n",
       "      <th>15</th>\n",
       "      <td>Jing Yuan</td>\n",
       "      <td>Erudition</td>\n",
       "      <td>Lightning</td>\n",
       "      <td>Playable</td>\n",
       "    </tr>\n",
       "    <tr>\n",
       "      <th>16</th>\n",
       "      <td>Jingliu</td>\n",
       "      <td>Destruction</td>\n",
       "      <td>Ice</td>\n",
       "      <td>Playable</td>\n",
       "    </tr>\n",
       "    <tr>\n",
       "      <th>17</th>\n",
       "      <td>Kafka</td>\n",
       "      <td>Nihility</td>\n",
       "      <td>Lightning</td>\n",
       "      <td>Playable</td>\n",
       "    </tr>\n",
       "    <tr>\n",
       "      <th>18</th>\n",
       "      <td>Luka</td>\n",
       "      <td>Nihility</td>\n",
       "      <td>Physical</td>\n",
       "      <td>Playable</td>\n",
       "    </tr>\n",
       "    <tr>\n",
       "      <th>19</th>\n",
       "      <td>Luocha</td>\n",
       "      <td>Abundance</td>\n",
       "      <td>Imaginary</td>\n",
       "      <td>Playable</td>\n",
       "    </tr>\n",
       "    <tr>\n",
       "      <th>20</th>\n",
       "      <td>Lynx</td>\n",
       "      <td>Abundance</td>\n",
       "      <td>Quantum</td>\n",
       "      <td>Playable</td>\n",
       "    </tr>\n",
       "    <tr>\n",
       "      <th>21</th>\n",
       "      <td>March 7th</td>\n",
       "      <td>Preservation</td>\n",
       "      <td>Ice</td>\n",
       "      <td>Playable</td>\n",
       "    </tr>\n",
       "    <tr>\n",
       "      <th>22</th>\n",
       "      <td>Natasha</td>\n",
       "      <td>Abundance</td>\n",
       "      <td>Physical</td>\n",
       "      <td>Playable</td>\n",
       "    </tr>\n",
       "    <tr>\n",
       "      <th>23</th>\n",
       "      <td>Pela</td>\n",
       "      <td>Nihility</td>\n",
       "      <td>Ice</td>\n",
       "      <td>Playable</td>\n",
       "    </tr>\n",
       "    <tr>\n",
       "      <th>24</th>\n",
       "      <td>Qingque</td>\n",
       "      <td>Erudition</td>\n",
       "      <td>Quantum</td>\n",
       "      <td>Playable</td>\n",
       "    </tr>\n",
       "    <tr>\n",
       "      <th>25</th>\n",
       "      <td>Sampo</td>\n",
       "      <td>Nihility</td>\n",
       "      <td>Wind</td>\n",
       "      <td>Playable</td>\n",
       "    </tr>\n",
       "    <tr>\n",
       "      <th>26</th>\n",
       "      <td>Seele</td>\n",
       "      <td>The Hunt</td>\n",
       "      <td>Quantum</td>\n",
       "      <td>Playable</td>\n",
       "    </tr>\n",
       "    <tr>\n",
       "      <th>27</th>\n",
       "      <td>Serval</td>\n",
       "      <td>Erudition</td>\n",
       "      <td>Lightning</td>\n",
       "      <td>Playable</td>\n",
       "    </tr>\n",
       "    <tr>\n",
       "      <th>28</th>\n",
       "      <td>Silver Wolf</td>\n",
       "      <td>Nihility</td>\n",
       "      <td>Quantum</td>\n",
       "      <td>Playable</td>\n",
       "    </tr>\n",
       "    <tr>\n",
       "      <th>29</th>\n",
       "      <td>Sushang</td>\n",
       "      <td>The Hunt</td>\n",
       "      <td>Physical</td>\n",
       "      <td>Playable</td>\n",
       "    </tr>\n",
       "    <tr>\n",
       "      <th>30</th>\n",
       "      <td>Tingyun</td>\n",
       "      <td>Harmony</td>\n",
       "      <td>Lightning</td>\n",
       "      <td>Playable</td>\n",
       "    </tr>\n",
       "    <tr>\n",
       "      <th>31</th>\n",
       "      <td>Topaz and Numby</td>\n",
       "      <td>The Hunt</td>\n",
       "      <td>Fire</td>\n",
       "      <td>Playable</td>\n",
       "    </tr>\n",
       "    <tr>\n",
       "      <th>32</th>\n",
       "      <td>Trailblazer</td>\n",
       "      <td>Adaptive</td>\n",
       "      <td>Adaptive</td>\n",
       "      <td>Playable</td>\n",
       "    </tr>\n",
       "    <tr>\n",
       "      <th>33</th>\n",
       "      <td>Welt</td>\n",
       "      <td>Nihility</td>\n",
       "      <td>Imaginary</td>\n",
       "      <td>Playable</td>\n",
       "    </tr>\n",
       "    <tr>\n",
       "      <th>34</th>\n",
       "      <td>Yanqing</td>\n",
       "      <td>The Hunt</td>\n",
       "      <td>Ice</td>\n",
       "      <td>Playable</td>\n",
       "    </tr>\n",
       "    <tr>\n",
       "      <th>35</th>\n",
       "      <td>Yukong</td>\n",
       "      <td>Harmony</td>\n",
       "      <td>Imaginary</td>\n",
       "      <td>Playable</td>\n",
       "    </tr>\n",
       "    <tr>\n",
       "      <th>36</th>\n",
       "      <td>Argenti</td>\n",
       "      <td>Erudition</td>\n",
       "      <td>Physical</td>\n",
       "      <td>Upcoming</td>\n",
       "    </tr>\n",
       "    <tr>\n",
       "      <th>37</th>\n",
       "      <td>Dr. Ratio</td>\n",
       "      <td>The Hunt</td>\n",
       "      <td>Imaginary</td>\n",
       "      <td>Upcoming</td>\n",
       "    </tr>\n",
       "    <tr>\n",
       "      <th>38</th>\n",
       "      <td>Hanya</td>\n",
       "      <td>Harmony</td>\n",
       "      <td>Physical</td>\n",
       "      <td>Upcoming</td>\n",
       "    </tr>\n",
       "    <tr>\n",
       "      <th>39</th>\n",
       "      <td>Ruan Mei</td>\n",
       "      <td>Harmony</td>\n",
       "      <td>Ice</td>\n",
       "      <td>Upcoming</td>\n",
       "    </tr>\n",
       "    <tr>\n",
       "      <th>40</th>\n",
       "      <td>Xueyi</td>\n",
       "      <td>Destruction</td>\n",
       "      <td>Quantum</td>\n",
       "      <td>Upcoming</td>\n",
       "    </tr>\n",
       "  </tbody>\n",
       "</table>\n",
       "</div>"
      ],
      "text/plain": [
       "                          Name          Path Combat Type    Status\n",
       "0                        Arlan   Destruction   Lightning  Playable\n",
       "1                         Asta       Harmony        Fire  Playable\n",
       "2                        Bailu     Abundance   Lightning  Playable\n",
       "3                        Blade   Destruction        Wind  Playable\n",
       "4                       Bronya       Harmony        Wind  Playable\n",
       "5                        Clara   Destruction    Physical  Playable\n",
       "6                     Dan Heng      The Hunt        Wind  Playable\n",
       "7   Dan Heng • Imbibitor Lunae   Destruction   Imaginary  Playable\n",
       "8                      Fu Xuan  Preservation     Quantum  Playable\n",
       "9                       Gepard  Preservation         Ice  Playable\n",
       "10                   Guinaifen      Nihility        Fire  Playable\n",
       "11                       Herta     Erudition         Ice  Playable\n",
       "12                      Himeko     Erudition        Fire  Playable\n",
       "13                        Hook   Destruction        Fire  Playable\n",
       "14                      Huohuo     Abundance        Wind  Playable\n",
       "15                   Jing Yuan     Erudition   Lightning  Playable\n",
       "16                     Jingliu   Destruction         Ice  Playable\n",
       "17                       Kafka      Nihility   Lightning  Playable\n",
       "18                        Luka      Nihility    Physical  Playable\n",
       "19                      Luocha     Abundance   Imaginary  Playable\n",
       "20                        Lynx     Abundance     Quantum  Playable\n",
       "21                   March 7th  Preservation         Ice  Playable\n",
       "22                     Natasha     Abundance    Physical  Playable\n",
       "23                        Pela      Nihility         Ice  Playable\n",
       "24                     Qingque     Erudition     Quantum  Playable\n",
       "25                       Sampo      Nihility        Wind  Playable\n",
       "26                       Seele      The Hunt     Quantum  Playable\n",
       "27                      Serval     Erudition   Lightning  Playable\n",
       "28                 Silver Wolf      Nihility     Quantum  Playable\n",
       "29                     Sushang      The Hunt    Physical  Playable\n",
       "30                     Tingyun       Harmony   Lightning  Playable\n",
       "31             Topaz and Numby      The Hunt        Fire  Playable\n",
       "32                 Trailblazer      Adaptive    Adaptive  Playable\n",
       "33                        Welt      Nihility   Imaginary  Playable\n",
       "34                     Yanqing      The Hunt         Ice  Playable\n",
       "35                      Yukong       Harmony   Imaginary  Playable\n",
       "36                     Argenti     Erudition    Physical  Upcoming\n",
       "37                   Dr. Ratio      The Hunt   Imaginary  Upcoming\n",
       "38                       Hanya       Harmony    Physical  Upcoming\n",
       "39                    Ruan Mei       Harmony         Ice  Upcoming\n",
       "40                       Xueyi   Destruction     Quantum  Upcoming"
      ]
     },
     "execution_count": 11,
     "metadata": {},
     "output_type": "execute_result"
    }
   ],
   "source": [
    "characters_df2"
   ]
  },
  {
   "cell_type": "markdown",
   "metadata": {},
   "source": [
    "### Se extrae mas informacion desde diferentes databases links para poder tener mas informacion relevante. En este caso se traen las estadisticas bases de cada personaje"
   ]
  },
  {
   "cell_type": "code",
   "execution_count": 29,
   "metadata": {},
   "outputs": [
    {
     "data": {
      "text/html": [
       "<div>\n",
       "<style scoped>\n",
       "    .dataframe tbody tr th:only-of-type {\n",
       "        vertical-align: middle;\n",
       "    }\n",
       "\n",
       "    .dataframe tbody tr th {\n",
       "        vertical-align: top;\n",
       "    }\n",
       "\n",
       "    .dataframe thead th {\n",
       "        text-align: right;\n",
       "    }\n",
       "</style>\n",
       "<table border=\"1\" class=\"dataframe\">\n",
       "  <thead>\n",
       "    <tr style=\"text-align: right;\">\n",
       "      <th></th>\n",
       "      <th>Name</th>\n",
       "      <th>HP</th>\n",
       "      <th>ATK</th>\n",
       "      <th>DEF</th>\n",
       "      <th>SPD</th>\n",
       "    </tr>\n",
       "  </thead>\n",
       "  <tbody>\n",
       "    <tr>\n",
       "      <th>23</th>\n",
       "      <td>Sampo</td>\n",
       "      <td>1023</td>\n",
       "      <td>617</td>\n",
       "      <td>396</td>\n",
       "      <td>102</td>\n",
       "    </tr>\n",
       "    <tr>\n",
       "      <th>24</th>\n",
       "      <td>Hook</td>\n",
       "      <td>1340</td>\n",
       "      <td>617</td>\n",
       "      <td>352</td>\n",
       "      <td>94</td>\n",
       "    </tr>\n",
       "    <tr>\n",
       "      <th>25</th>\n",
       "      <td>Sushang</td>\n",
       "      <td>916</td>\n",
       "      <td>564</td>\n",
       "      <td>418</td>\n",
       "      <td>107</td>\n",
       "    </tr>\n",
       "    <tr>\n",
       "      <th>26</th>\n",
       "      <td>Qingque</td>\n",
       "      <td>1023</td>\n",
       "      <td>652</td>\n",
       "      <td>441</td>\n",
       "      <td>98</td>\n",
       "    </tr>\n",
       "    <tr>\n",
       "      <th>27</th>\n",
       "      <td>Tingyun</td>\n",
       "      <td>846</td>\n",
       "      <td>529</td>\n",
       "      <td>396</td>\n",
       "      <td>112</td>\n",
       "    </tr>\n",
       "  </tbody>\n",
       "</table>\n",
       "</div>"
      ],
      "text/plain": [
       "       Name    HP  ATK  DEF  SPD\n",
       "23    Sampo  1023  617  396  102\n",
       "24     Hook  1340  617  352   94\n",
       "25  Sushang   916  564  418  107\n",
       "26  Qingque  1023  652  441   98\n",
       "27  Tingyun   846  529  396  112"
      ]
     },
     "execution_count": 29,
     "metadata": {},
     "output_type": "execute_result"
    }
   ],
   "source": [
    "statsUrl = pd.read_html('https://gamewith.net/honkai-starrail/article/show/38646')\n",
    "statsCharacters = statsUrl[1]\n",
    "statsCharacters.rename(columns={'Character': 'Name'}, inplace=True)\n",
    "statsCharacters.head()"
   ]
  },
  {
   "cell_type": "markdown",
   "metadata": {},
   "source": [
    "### Se mergean los datos nuevos con el dataframe anterior"
   ]
  },
  {
   "cell_type": "code",
   "execution_count": 30,
   "metadata": {},
   "outputs": [
    {
     "data": {
      "text/html": [
       "<div>\n",
       "<style scoped>\n",
       "    .dataframe tbody tr th:only-of-type {\n",
       "        vertical-align: middle;\n",
       "    }\n",
       "\n",
       "    .dataframe tbody tr th {\n",
       "        vertical-align: top;\n",
       "    }\n",
       "\n",
       "    .dataframe thead th {\n",
       "        text-align: right;\n",
       "    }\n",
       "</style>\n",
       "<table border=\"1\" class=\"dataframe\">\n",
       "  <thead>\n",
       "    <tr style=\"text-align: right;\">\n",
       "      <th></th>\n",
       "      <th>Name</th>\n",
       "      <th>Path</th>\n",
       "      <th>Combat Type</th>\n",
       "      <th>Status</th>\n",
       "      <th>HP_x</th>\n",
       "      <th>ATK_x</th>\n",
       "      <th>DEF_x</th>\n",
       "      <th>SPD_x</th>\n",
       "      <th>HP_y</th>\n",
       "      <th>ATK_y</th>\n",
       "      <th>DEF_y</th>\n",
       "      <th>SPD_y</th>\n",
       "    </tr>\n",
       "  </thead>\n",
       "  <tbody>\n",
       "    <tr>\n",
       "      <th>24</th>\n",
       "      <td>Yanqing</td>\n",
       "      <td>The Hunt</td>\n",
       "      <td>Ice</td>\n",
       "      <td>Playable</td>\n",
       "      <td>892</td>\n",
       "      <td>679</td>\n",
       "      <td>412</td>\n",
       "      <td>109</td>\n",
       "      <td>892</td>\n",
       "      <td>679</td>\n",
       "      <td>412</td>\n",
       "      <td>109</td>\n",
       "    </tr>\n",
       "    <tr>\n",
       "      <th>5</th>\n",
       "      <td>Clara</td>\n",
       "      <td>Destruction</td>\n",
       "      <td>Physical</td>\n",
       "      <td>Playable</td>\n",
       "      <td>1319</td>\n",
       "      <td>737</td>\n",
       "      <td>485</td>\n",
       "      <td>90</td>\n",
       "      <td>1319</td>\n",
       "      <td>737</td>\n",
       "      <td>485</td>\n",
       "      <td>90</td>\n",
       "    </tr>\n",
       "    <tr>\n",
       "      <th>8</th>\n",
       "      <td>Herta</td>\n",
       "      <td>Erudition</td>\n",
       "      <td>Ice</td>\n",
       "      <td>Playable</td>\n",
       "      <td>952</td>\n",
       "      <td>582</td>\n",
       "      <td>396</td>\n",
       "      <td>100</td>\n",
       "      <td>952</td>\n",
       "      <td>582</td>\n",
       "      <td>396</td>\n",
       "      <td>100</td>\n",
       "    </tr>\n",
       "    <tr>\n",
       "      <th>0</th>\n",
       "      <td>Arlan</td>\n",
       "      <td>Destruction</td>\n",
       "      <td>Lightning</td>\n",
       "      <td>Playable</td>\n",
       "      <td>1199</td>\n",
       "      <td>599</td>\n",
       "      <td>330</td>\n",
       "      <td>102</td>\n",
       "      <td>1199</td>\n",
       "      <td>599</td>\n",
       "      <td>330</td>\n",
       "      <td>102</td>\n",
       "    </tr>\n",
       "    <tr>\n",
       "      <th>22</th>\n",
       "      <td>Tingyun</td>\n",
       "      <td>Harmony</td>\n",
       "      <td>Lightning</td>\n",
       "      <td>Playable</td>\n",
       "      <td>846</td>\n",
       "      <td>529</td>\n",
       "      <td>396</td>\n",
       "      <td>112</td>\n",
       "      <td>846</td>\n",
       "      <td>529</td>\n",
       "      <td>396</td>\n",
       "      <td>112</td>\n",
       "    </tr>\n",
       "  </tbody>\n",
       "</table>\n",
       "</div>"
      ],
      "text/plain": [
       "       Name         Path Combat Type    Status  HP_x  ATK_x  DEF_x  SPD_x  \\\n",
       "24  Yanqing     The Hunt         Ice  Playable   892    679    412    109   \n",
       "5     Clara  Destruction    Physical  Playable  1319    737    485     90   \n",
       "8     Herta    Erudition         Ice  Playable   952    582    396    100   \n",
       "0     Arlan  Destruction   Lightning  Playable  1199    599    330    102   \n",
       "22  Tingyun      Harmony   Lightning  Playable   846    529    396    112   \n",
       "\n",
       "    HP_y  ATK_y  DEF_y  SPD_y  \n",
       "24   892    679    412    109  \n",
       "5   1319    737    485     90  \n",
       "8    952    582    396    100  \n",
       "0   1199    599    330    102  \n",
       "22   846    529    396    112  "
      ]
     },
     "execution_count": 30,
     "metadata": {},
     "output_type": "execute_result"
    }
   ],
   "source": [
    "characters_df3 = pd.merge(characters_df2, statsCharacters, on='Name')\n",
    "characters_df3.sample(5)"
   ]
  },
  {
   "cell_type": "code",
   "execution_count": 31,
   "metadata": {},
   "outputs": [
    {
     "data": {
      "text/html": [
       "<div>\n",
       "<style scoped>\n",
       "    .dataframe tbody tr th:only-of-type {\n",
       "        vertical-align: middle;\n",
       "    }\n",
       "\n",
       "    .dataframe tbody tr th {\n",
       "        vertical-align: top;\n",
       "    }\n",
       "\n",
       "    .dataframe thead th {\n",
       "        text-align: right;\n",
       "    }\n",
       "</style>\n",
       "<table border=\"1\" class=\"dataframe\">\n",
       "  <thead>\n",
       "    <tr style=\"text-align: right;\">\n",
       "      <th></th>\n",
       "      <th>HP_x</th>\n",
       "      <th>ATK_x</th>\n",
       "      <th>DEF_x</th>\n",
       "      <th>SPD_x</th>\n",
       "      <th>HP_y</th>\n",
       "      <th>ATK_y</th>\n",
       "      <th>DEF_y</th>\n",
       "      <th>SPD_y</th>\n",
       "    </tr>\n",
       "  </thead>\n",
       "  <tbody>\n",
       "    <tr>\n",
       "      <th>count</th>\n",
       "      <td>26.000000</td>\n",
       "      <td>26.000000</td>\n",
       "      <td>26.000000</td>\n",
       "      <td>26.000000</td>\n",
       "      <td>26.000000</td>\n",
       "      <td>26.000000</td>\n",
       "      <td>26.000000</td>\n",
       "      <td>26.000000</td>\n",
       "    </tr>\n",
       "    <tr>\n",
       "      <th>mean</th>\n",
       "      <td>1091.038462</td>\n",
       "      <td>612.923077</td>\n",
       "      <td>444.192308</td>\n",
       "      <td>101.961538</td>\n",
       "      <td>1091.038462</td>\n",
       "      <td>612.923077</td>\n",
       "      <td>444.192308</td>\n",
       "      <td>101.961538</td>\n",
       "    </tr>\n",
       "    <tr>\n",
       "      <th>std</th>\n",
       "      <td>169.899613</td>\n",
       "      <td>86.456890</td>\n",
       "      <td>74.813913</td>\n",
       "      <td>6.089209</td>\n",
       "      <td>169.899613</td>\n",
       "      <td>86.456890</td>\n",
       "      <td>74.813913</td>\n",
       "      <td>6.089209</td>\n",
       "    </tr>\n",
       "    <tr>\n",
       "      <th>min</th>\n",
       "      <td>846.000000</td>\n",
       "      <td>476.000000</td>\n",
       "      <td>330.000000</td>\n",
       "      <td>90.000000</td>\n",
       "      <td>846.000000</td>\n",
       "      <td>476.000000</td>\n",
       "      <td>330.000000</td>\n",
       "      <td>90.000000</td>\n",
       "    </tr>\n",
       "    <tr>\n",
       "      <th>25%</th>\n",
       "      <td>936.250000</td>\n",
       "      <td>546.000000</td>\n",
       "      <td>396.000000</td>\n",
       "      <td>98.000000</td>\n",
       "      <td>936.250000</td>\n",
       "      <td>546.000000</td>\n",
       "      <td>396.000000</td>\n",
       "      <td>98.000000</td>\n",
       "    </tr>\n",
       "    <tr>\n",
       "      <th>50%</th>\n",
       "      <td>1047.000000</td>\n",
       "      <td>599.000000</td>\n",
       "      <td>438.500000</td>\n",
       "      <td>101.500000</td>\n",
       "      <td>1047.000000</td>\n",
       "      <td>599.000000</td>\n",
       "      <td>438.500000</td>\n",
       "      <td>101.500000</td>\n",
       "    </tr>\n",
       "    <tr>\n",
       "      <th>75%</th>\n",
       "      <td>1230.500000</td>\n",
       "      <td>652.000000</td>\n",
       "      <td>485.000000</td>\n",
       "      <td>106.750000</td>\n",
       "      <td>1230.500000</td>\n",
       "      <td>652.000000</td>\n",
       "      <td>485.000000</td>\n",
       "      <td>106.750000</td>\n",
       "    </tr>\n",
       "    <tr>\n",
       "      <th>max</th>\n",
       "      <td>1397.000000</td>\n",
       "      <td>819.000000</td>\n",
       "      <td>654.000000</td>\n",
       "      <td>115.000000</td>\n",
       "      <td>1397.000000</td>\n",
       "      <td>819.000000</td>\n",
       "      <td>654.000000</td>\n",
       "      <td>115.000000</td>\n",
       "    </tr>\n",
       "  </tbody>\n",
       "</table>\n",
       "</div>"
      ],
      "text/plain": [
       "              HP_x       ATK_x       DEF_x       SPD_x         HP_y  \\\n",
       "count    26.000000   26.000000   26.000000   26.000000    26.000000   \n",
       "mean   1091.038462  612.923077  444.192308  101.961538  1091.038462   \n",
       "std     169.899613   86.456890   74.813913    6.089209   169.899613   \n",
       "min     846.000000  476.000000  330.000000   90.000000   846.000000   \n",
       "25%     936.250000  546.000000  396.000000   98.000000   936.250000   \n",
       "50%    1047.000000  599.000000  438.500000  101.500000  1047.000000   \n",
       "75%    1230.500000  652.000000  485.000000  106.750000  1230.500000   \n",
       "max    1397.000000  819.000000  654.000000  115.000000  1397.000000   \n",
       "\n",
       "            ATK_y       DEF_y       SPD_y  \n",
       "count   26.000000   26.000000   26.000000  \n",
       "mean   612.923077  444.192308  101.961538  \n",
       "std     86.456890   74.813913    6.089209  \n",
       "min    476.000000  330.000000   90.000000  \n",
       "25%    546.000000  396.000000   98.000000  \n",
       "50%    599.000000  438.500000  101.500000  \n",
       "75%    652.000000  485.000000  106.750000  \n",
       "max    819.000000  654.000000  115.000000  "
      ]
     },
     "execution_count": 31,
     "metadata": {},
     "output_type": "execute_result"
    }
   ],
   "source": [
    "characters_df3.describe()"
   ]
  },
  {
   "cell_type": "code",
   "execution_count": 37,
   "metadata": {},
   "outputs": [
    {
     "name": "stdout",
     "output_type": "stream",
     "text": [
      "<class 'pandas.core.frame.DataFrame'>\n",
      "Int64Index: 26 entries, 0 to 25\n",
      "Data columns (total 8 columns):\n",
      " #   Column       Non-Null Count  Dtype \n",
      "---  ------       --------------  ----- \n",
      " 0   Name         26 non-null     object\n",
      " 1   Path         26 non-null     object\n",
      " 2   Combat Type  26 non-null     object\n",
      " 3   Status       26 non-null     object\n",
      " 4   HP           26 non-null     int64 \n",
      " 5   ATK          26 non-null     int64 \n",
      " 6   DEF          26 non-null     int64 \n",
      " 7   SPD          26 non-null     int64 \n",
      "dtypes: int64(4), object(4)\n",
      "memory usage: 1.8+ KB\n"
     ]
    }
   ],
   "source": [
    "characters_df2.info()"
   ]
  },
  {
   "cell_type": "code",
   "execution_count": 32,
   "metadata": {},
   "outputs": [
    {
     "name": "stdout",
     "output_type": "stream",
     "text": [
      "<class 'pandas.core.frame.DataFrame'>\n",
      "Int64Index: 26 entries, 0 to 25\n",
      "Data columns (total 12 columns):\n",
      " #   Column       Non-Null Count  Dtype \n",
      "---  ------       --------------  ----- \n",
      " 0   Name         26 non-null     object\n",
      " 1   Path         26 non-null     object\n",
      " 2   Combat Type  26 non-null     object\n",
      " 3   Status       26 non-null     object\n",
      " 4   HP_x         26 non-null     int64 \n",
      " 5   ATK_x        26 non-null     int64 \n",
      " 6   DEF_x        26 non-null     int64 \n",
      " 7   SPD_x        26 non-null     int64 \n",
      " 8   HP_y         26 non-null     int64 \n",
      " 9   ATK_y        26 non-null     int64 \n",
      " 10  DEF_y        26 non-null     int64 \n",
      " 11  SPD_y        26 non-null     int64 \n",
      "dtypes: int64(8), object(4)\n",
      "memory usage: 2.6+ KB\n"
     ]
    }
   ],
   "source": [
    "characters_df3.info()"
   ]
  },
  {
   "cell_type": "markdown",
   "metadata": {},
   "source": [
    "Se utiliza la libreria de ydata para obtener profile report, pero al parecer tiene varios bugs desde jupyter (esto no sucede desde vsc)"
   ]
  },
  {
   "cell_type": "code",
   "execution_count": 113,
   "metadata": {},
   "outputs": [],
   "source": [
    "#profileData = ProfileReport(characters_df, title='Honkai Impact 3rd Characters Profile Report', explorative=True)\n",
    "#profileData.to_file('HonkaiImpact3rdCharactersProfileReport.html')"
   ]
  },
  {
   "cell_type": "markdown",
   "metadata": {},
   "source": [
    "# Arrancan las visualizaciones de datos para entender mas el dataset"
   ]
  },
  {
   "cell_type": "code",
   "execution_count": 34,
   "metadata": {},
   "outputs": [
    {
     "data": {
      "text/plain": [
       "<AxesSubplot:xlabel='Path', ylabel='count'>"
      ]
     },
     "execution_count": 34,
     "metadata": {},
     "output_type": "execute_result"
    },
    {
     "data": {
      "image/png": "[encoded data removed]",
      "text/plain": [
       "<Figure size 640x480 with 1 Axes>"
      ]
     },
     "metadata": {},
     "output_type": "display_data"
    }
   ],
   "source": [
    "sns.countplot(x='Path',\n",
    "            data=characters_df3)"
   ]
  },
  {
   "cell_type": "markdown",
   "metadata": {},
   "source": [
    "Se observa la distribucion de los personajes segun su Path"
   ]
  },
  {
   "cell_type": "code",
   "execution_count": 36,
   "metadata": {},
   "outputs": [
    {
     "data": {
      "text/plain": [
       "<AxesSubplot:xlabel='Combat Type', ylabel='count'>"
      ]
     },
     "execution_count": 36,
     "metadata": {},
     "output_type": "execute_result"
    },
    {
     "data": {
      "image/png": "[encoded data removed]",
      "text/plain": [
       "<Figure size 640x480 with 1 Axes>"
      ]
     },
     "metadata": {},
     "output_type": "display_data"
    }
   ],
   "source": [
    "sns.countplot(x='Combat Type',\n",
    "            data=characters_df3)"
   ]
  },
  {
   "cell_type": "markdown",
   "metadata": {},
   "source": [
    "### Se realizan varios scatterplots para ver si existe alguna relacion entre los stats de los personajes"
   ]
  },
  {
   "cell_type": "code",
   "execution_count": 18,
   "metadata": {},
   "outputs": [
    {
     "data": {
      "text/plain": [
       "<AxesSubplot:xlabel='HP', ylabel='SPD'>"
      ]
     },
     "execution_count": 18,
     "metadata": {},
     "output_type": "execute_result"
    },
    {
     "data": {
      "image/png": "[encoded data removed]",
      "text/plain": [
       "<Figure size 640x480 with 1 Axes>"
      ]
     },
     "metadata": {},
     "output_type": "display_data"
    }
   ],
   "source": [
    "characters_df2.plot.scatter(x='HP', y='SPD')"
   ]
  },
  {
   "cell_type": "code",
   "execution_count": 19,
   "metadata": {},
   "outputs": [
    {
     "data": {
      "text/plain": [
       "<AxesSubplot:xlabel='HP', ylabel='DEF'>"
      ]
     },
     "execution_count": 19,
     "metadata": {},
     "output_type": "execute_result"
    },
    {
     "data": {
      "image/png": "[encoded data removed]",
      "text/plain": [
       "<Figure size 640x480 with 1 Axes>"
      ]
     },
     "metadata": {},
     "output_type": "display_data"
    }
   ],
   "source": [
    "characters_df2.plot.scatter(x='HP', y='DEF')"
   ]
  },
  {
   "cell_type": "code",
   "execution_count": 20,
   "metadata": {},
   "outputs": [
    {
     "data": {
      "text/plain": [
       "<AxesSubplot:xlabel='ATK', ylabel='SPD'>"
      ]
     },
     "execution_count": 20,
     "metadata": {},
     "output_type": "execute_result"
    },
    {
     "data": {
      "image/png": "[encoded data removed]",
      "text/plain": [
       "<Figure size 640x480 with 1 Axes>"
      ]
     },
     "metadata": {},
     "output_type": "display_data"
    }
   ],
   "source": [
    "characters_df2.plot.scatter(x='ATK', y='SPD')"
   ]
  },
  {
   "cell_type": "code",
   "execution_count": 21,
   "metadata": {},
   "outputs": [
    {
     "data": {
      "text/plain": [
       "<AxesSubplot:xlabel='HP', ylabel='ATK'>"
      ]
     },
     "execution_count": 21,
     "metadata": {},
     "output_type": "execute_result"
    },
    {
     "data": {
      "image/png": "[encoded data removed]",
      "text/plain": [
       "<Figure size 640x480 with 1 Axes>"
      ]
     },
     "metadata": {},
     "output_type": "display_data"
    }
   ],
   "source": [
    "characters_df2.plot.scatter(x='HP', y='ATK')"
   ]
  },
  {
   "cell_type": "code",
   "execution_count": 22,
   "metadata": {},
   "outputs": [
    {
     "data": {
      "text/plain": [
       "<AxesSubplot:xlabel='DEF', ylabel='SPD'>"
      ]
     },
     "execution_count": 22,
     "metadata": {},
     "output_type": "execute_result"
    },
    {
     "data": {
      "image/png": "[encoded data removed]",
      "text/plain": [
       "<Figure size 640x480 with 1 Axes>"
      ]
     },
     "metadata": {},
     "output_type": "display_data"
    }
   ],
   "source": [
    "characters_df2.plot.scatter(x='DEF', y='SPD')"
   ]
  },
  {
   "cell_type": "markdown",
   "metadata": {},
   "source": [
    "Se puede observar que hay una alta correlacion entre SPD Y HP. Al ser mayor la velocidad de un personaje, menor es su cantidad de vida base. Al ser mayor su vida, su movimiento sera menor."
   ]
  },
  {
   "cell_type": "code",
   "execution_count": 23,
   "metadata": {},
   "outputs": [
    {
     "data": {
      "text/plain": [
       "<AxesSubplot:xlabel='SPD', ylabel='HP'>"
      ]
     },
     "execution_count": 23,
     "metadata": {},
     "output_type": "execute_result"
    },
    {
     "data": {
      "image/png": "[encoded data removed]",
      "text/plain": [
       "<Figure size 640x480 with 1 Axes>"
      ]
     },
     "metadata": {},
     "output_type": "display_data"
    }
   ],
   "source": [
    "sns.regplot(x='SPD', y='HP', data=characters_df2)"
   ]
  },
  {
   "cell_type": "code",
   "execution_count": 24,
   "metadata": {
    "scrolled": false
   },
   "outputs": [
    {
     "data": {
      "text/plain": [
       "<AxesSubplot:xlabel='SPD', ylabel='HP'>"
      ]
     },
     "execution_count": 24,
     "metadata": {},
     "output_type": "execute_result"
    },
    {
     "data": {
      "image/png": "[encoded data removed]",
      "text/plain": [
       "<Figure size 640x480 with 1 Axes>"
      ]
     },
     "metadata": {},
     "output_type": "display_data"
    }
   ],
   "source": [
    "sns.scatterplot(x='SPD', y='HP', data=characters_df2)"
   ]
  },
  {
   "cell_type": "code",
   "execution_count": 123,
   "metadata": {},
   "outputs": [],
   "source": [
    "# Se agrega esta linea de codigo debido a que desde vsc no se puede visualizar los graficos, ignorar si se utiliza con jupyter notebook\n",
    "#plt.show()"
   ]
  },
  {
   "cell_type": "code",
   "execution_count": 27,
   "metadata": {},
   "outputs": [
    {
     "data": {
      "text/plain": [
       "<AxesSubplot:xlabel='Combat Type', ylabel='count'>"
      ]
     },
     "execution_count": 27,
     "metadata": {},
     "output_type": "execute_result"
    },
    {
     "data": {
      "image/png": "[encoded data removed]",
      "text/plain": [
       "<Figure size 640x480 with 1 Axes>"
      ]
     },
     "metadata": {},
     "output_type": "display_data"
    }
   ],
   "source": [
    "sns.countplot(x='Combat Type',\n",
    "            data=characters_df2\n",
    "             )"
   ]
  },
  {
   "cell_type": "code",
   "execution_count": 28,
   "metadata": {},
   "outputs": [
    {
     "data": {
      "text/plain": [
       "<AxesSubplot:xlabel='Combat Type', ylabel='count'>"
      ]
     },
     "execution_count": 28,
     "metadata": {},
     "output_type": "execute_result"
    },
    {
     "data": {
      "image/png": "[encoded data removed]",
      "text/plain": [
       "<Figure size 640x480 with 1 Axes>"
      ]
     },
     "metadata": {},
     "output_type": "display_data"
    }
   ],
   "source": [
    "sns.countplot(x='Combat Type',\n",
    "            data=characters_df2[characters_df2['Status'] == 'Playable']\n",
    "             )"
   ]
  },
  {
   "cell_type": "code",
   "execution_count": null,
   "metadata": {},
   "outputs": [],
   "source": []
  }
 ],
 "metadata": {
  "kernelspec": {
   "display_name": "Python 3 (ipykernel)",
   "language": "python",
   "name": "python3"
  },
  "language_info": {
   "codemirror_mode": {
    "name": "ipython",
    "version": 3
   },
   "file_extension": ".py",
   "mimetype": "text/x-python",
   "name": "python",
   "nbconvert_exporter": "python",
   "pygments_lexer": "ipython3",
   "version": "3.9.13"
  }
 },
 "nbformat": 4,
 "nbformat_minor": 2
}
